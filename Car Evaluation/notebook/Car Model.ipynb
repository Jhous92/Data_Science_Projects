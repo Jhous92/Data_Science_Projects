{
 "cells": [
  {
   "cell_type": "markdown",
   "metadata": {},
   "source": [
    "## Avaliação de Veículos\n",
    "Criação de um modelo de Machine Learning para avaliação de veículos com base em características, após,\n",
    "será gerado um modelo, salvo em disco, para ser utilizado através de uma API, feito em Flask."
   ]
  },
  {
   "cell_type": "code",
   "execution_count": 1,
   "metadata": {},
   "outputs": [
    {
     "name": "stderr",
     "output_type": "stream",
     "text": [
      "C:\\ProgramData\\Anaconda3\\lib\\site-packages\\statsmodels\\tools\\_testing.py:19: FutureWarning: pandas.util.testing is deprecated. Use the functions in the public API at pandas.testing instead.\n",
      "  import pandas.util.testing as tm\n"
     ]
    }
   ],
   "source": [
    "# Importando as bibliotecas\n",
    "import pandas as pd\n",
    "import seaborn as sns\n",
    "import matplotlib.pyplot as plt\n",
    "import numpy as np"
   ]
  },
  {
   "cell_type": "markdown",
   "metadata": {},
   "source": [
    "# Carregando e analisando os dados"
   ]
  },
  {
   "cell_type": "code",
   "execution_count": 2,
   "metadata": {},
   "outputs": [],
   "source": [
    "df = pd.read_excel('car.xlsx')"
   ]
  },
  {
   "cell_type": "code",
   "execution_count": 3,
   "metadata": {},
   "outputs": [
    {
     "data": {
      "text/html": [
       "<div>\n",
       "<style scoped>\n",
       "    .dataframe tbody tr th:only-of-type {\n",
       "        vertical-align: middle;\n",
       "    }\n",
       "\n",
       "    .dataframe tbody tr th {\n",
       "        vertical-align: top;\n",
       "    }\n",
       "\n",
       "    .dataframe thead th {\n",
       "        text-align: right;\n",
       "    }\n",
       "</style>\n",
       "<table border=\"1\" class=\"dataframe\">\n",
       "  <thead>\n",
       "    <tr style=\"text-align: right;\">\n",
       "      <th></th>\n",
       "      <th>buying</th>\n",
       "      <th>maint</th>\n",
       "      <th>doors</th>\n",
       "      <th>persons</th>\n",
       "      <th>lug_boot</th>\n",
       "      <th>safety</th>\n",
       "      <th>class</th>\n",
       "    </tr>\n",
       "  </thead>\n",
       "  <tbody>\n",
       "    <tr>\n",
       "      <th>0</th>\n",
       "      <td>vhigh</td>\n",
       "      <td>vhigh</td>\n",
       "      <td>2</td>\n",
       "      <td>2</td>\n",
       "      <td>small</td>\n",
       "      <td>low</td>\n",
       "      <td>unacc</td>\n",
       "    </tr>\n",
       "    <tr>\n",
       "      <th>1</th>\n",
       "      <td>vhigh</td>\n",
       "      <td>vhigh</td>\n",
       "      <td>2</td>\n",
       "      <td>2</td>\n",
       "      <td>small</td>\n",
       "      <td>med</td>\n",
       "      <td>unacc</td>\n",
       "    </tr>\n",
       "    <tr>\n",
       "      <th>2</th>\n",
       "      <td>vhigh</td>\n",
       "      <td>vhigh</td>\n",
       "      <td>2</td>\n",
       "      <td>2</td>\n",
       "      <td>small</td>\n",
       "      <td>high</td>\n",
       "      <td>unacc</td>\n",
       "    </tr>\n",
       "    <tr>\n",
       "      <th>3</th>\n",
       "      <td>vhigh</td>\n",
       "      <td>vhigh</td>\n",
       "      <td>2</td>\n",
       "      <td>2</td>\n",
       "      <td>med</td>\n",
       "      <td>low</td>\n",
       "      <td>unacc</td>\n",
       "    </tr>\n",
       "    <tr>\n",
       "      <th>4</th>\n",
       "      <td>vhigh</td>\n",
       "      <td>vhigh</td>\n",
       "      <td>2</td>\n",
       "      <td>2</td>\n",
       "      <td>med</td>\n",
       "      <td>med</td>\n",
       "      <td>unacc</td>\n",
       "    </tr>\n",
       "  </tbody>\n",
       "</table>\n",
       "</div>"
      ],
      "text/plain": [
       "  buying  maint doors persons lug_boot safety  class\n",
       "0  vhigh  vhigh     2       2    small    low  unacc\n",
       "1  vhigh  vhigh     2       2    small    med  unacc\n",
       "2  vhigh  vhigh     2       2    small   high  unacc\n",
       "3  vhigh  vhigh     2       2      med    low  unacc\n",
       "4  vhigh  vhigh     2       2      med    med  unacc"
      ]
     },
     "execution_count": 3,
     "metadata": {},
     "output_type": "execute_result"
    }
   ],
   "source": [
    "df.head()"
   ]
  },
  {
   "cell_type": "markdown",
   "metadata": {},
   "source": [
    "**buying: preço de compra  \n",
    "maint: preço da manutenção  \n",
    "doors: quantidade de portas  \n",
    "persons: quantidade de pessoas no veículo  \n",
    "lug_boot: tamanho do bagageiro  \n",
    "safety: segurança estimada do veículo  \n",
    "class: avaliação final do veículo**"
   ]
  },
  {
   "cell_type": "code",
   "execution_count": 4,
   "metadata": {},
   "outputs": [
    {
     "name": "stdout",
     "output_type": "stream",
     "text": [
      "<class 'pandas.core.frame.DataFrame'>\n",
      "RangeIndex: 1728 entries, 0 to 1727\n",
      "Data columns (total 7 columns):\n",
      " #   Column    Non-Null Count  Dtype \n",
      "---  ------    --------------  ----- \n",
      " 0   buying    1728 non-null   object\n",
      " 1   maint     1728 non-null   object\n",
      " 2   doors     1728 non-null   object\n",
      " 3   persons   1728 non-null   object\n",
      " 4   lug_boot  1728 non-null   object\n",
      " 5   safety    1728 non-null   object\n",
      " 6   class     1728 non-null   object\n",
      "dtypes: object(7)\n",
      "memory usage: 94.6+ KB\n"
     ]
    }
   ],
   "source": [
    "# Retirando informações\n",
    "df.info()"
   ]
  },
  {
   "cell_type": "code",
   "execution_count": 5,
   "metadata": {},
   "outputs": [
    {
     "data": {
      "text/plain": [
       "buying      0\n",
       "maint       0\n",
       "doors       0\n",
       "persons     0\n",
       "lug_boot    0\n",
       "safety      0\n",
       "class       0\n",
       "dtype: int64"
      ]
     },
     "execution_count": 5,
     "metadata": {},
     "output_type": "execute_result"
    }
   ],
   "source": [
    "# Verificando nulos\n",
    "df.isnull().sum()"
   ]
  },
  {
   "cell_type": "code",
   "execution_count": 6,
   "metadata": {},
   "outputs": [],
   "source": [
    "# Alterando dados categóricos para numéricos\n",
    "buying = {'low':1, 'med':2, 'high':3, 'vhigh':4}\n",
    "maint = {'low':1, 'med':2, 'high':3, 'vhigh':4}\n",
    "doors = {'5more':5}\n",
    "persons = {'more':5}\n",
    "lug_boot = {'small':1, 'med':2, 'big':3}\n",
    "safety = {'low':1, 'med':2, 'high':3}\n",
    "\n",
    "# Armazenando em outro dataset\n",
    "df_replace = df.replace({'buying':buying, 'maint':maint, 'doors':doors,\n",
    "                         'persons':persons, 'lug_boot':lug_boot, 'safety':safety})"
   ]
  },
  {
   "cell_type": "code",
   "execution_count": 7,
   "metadata": {},
   "outputs": [
    {
     "data": {
      "text/html": [
       "<div>\n",
       "<style scoped>\n",
       "    .dataframe tbody tr th:only-of-type {\n",
       "        vertical-align: middle;\n",
       "    }\n",
       "\n",
       "    .dataframe tbody tr th {\n",
       "        vertical-align: top;\n",
       "    }\n",
       "\n",
       "    .dataframe thead th {\n",
       "        text-align: right;\n",
       "    }\n",
       "</style>\n",
       "<table border=\"1\" class=\"dataframe\">\n",
       "  <thead>\n",
       "    <tr style=\"text-align: right;\">\n",
       "      <th></th>\n",
       "      <th>buying</th>\n",
       "      <th>maint</th>\n",
       "      <th>doors</th>\n",
       "      <th>persons</th>\n",
       "      <th>lug_boot</th>\n",
       "      <th>safety</th>\n",
       "      <th>class</th>\n",
       "    </tr>\n",
       "  </thead>\n",
       "  <tbody>\n",
       "    <tr>\n",
       "      <th>0</th>\n",
       "      <td>4</td>\n",
       "      <td>4</td>\n",
       "      <td>2</td>\n",
       "      <td>2</td>\n",
       "      <td>1</td>\n",
       "      <td>1</td>\n",
       "      <td>unacc</td>\n",
       "    </tr>\n",
       "    <tr>\n",
       "      <th>1</th>\n",
       "      <td>4</td>\n",
       "      <td>4</td>\n",
       "      <td>2</td>\n",
       "      <td>2</td>\n",
       "      <td>1</td>\n",
       "      <td>2</td>\n",
       "      <td>unacc</td>\n",
       "    </tr>\n",
       "    <tr>\n",
       "      <th>2</th>\n",
       "      <td>4</td>\n",
       "      <td>4</td>\n",
       "      <td>2</td>\n",
       "      <td>2</td>\n",
       "      <td>1</td>\n",
       "      <td>3</td>\n",
       "      <td>unacc</td>\n",
       "    </tr>\n",
       "    <tr>\n",
       "      <th>3</th>\n",
       "      <td>4</td>\n",
       "      <td>4</td>\n",
       "      <td>2</td>\n",
       "      <td>2</td>\n",
       "      <td>2</td>\n",
       "      <td>1</td>\n",
       "      <td>unacc</td>\n",
       "    </tr>\n",
       "    <tr>\n",
       "      <th>4</th>\n",
       "      <td>4</td>\n",
       "      <td>4</td>\n",
       "      <td>2</td>\n",
       "      <td>2</td>\n",
       "      <td>2</td>\n",
       "      <td>2</td>\n",
       "      <td>unacc</td>\n",
       "    </tr>\n",
       "  </tbody>\n",
       "</table>\n",
       "</div>"
      ],
      "text/plain": [
       "   buying  maint  doors  persons  lug_boot  safety  class\n",
       "0       4      4      2        2         1       1  unacc\n",
       "1       4      4      2        2         1       2  unacc\n",
       "2       4      4      2        2         1       3  unacc\n",
       "3       4      4      2        2         2       1  unacc\n",
       "4       4      4      2        2         2       2  unacc"
      ]
     },
     "execution_count": 7,
     "metadata": {},
     "output_type": "execute_result"
    }
   ],
   "source": [
    "df_replace.head()"
   ]
  },
  {
   "cell_type": "code",
   "execution_count": 8,
   "metadata": {},
   "outputs": [
    {
     "name": "stdout",
     "output_type": "stream",
     "text": [
      "<class 'pandas.core.frame.DataFrame'>\n",
      "RangeIndex: 1728 entries, 0 to 1727\n",
      "Data columns (total 7 columns):\n",
      " #   Column    Non-Null Count  Dtype \n",
      "---  ------    --------------  ----- \n",
      " 0   buying    1728 non-null   int64 \n",
      " 1   maint     1728 non-null   int64 \n",
      " 2   doors     1728 non-null   int64 \n",
      " 3   persons   1728 non-null   int64 \n",
      " 4   lug_boot  1728 non-null   int64 \n",
      " 5   safety    1728 non-null   int64 \n",
      " 6   class     1728 non-null   object\n",
      "dtypes: int64(6), object(1)\n",
      "memory usage: 94.6+ KB\n"
     ]
    }
   ],
   "source": [
    "# Verificando as informações do novo dataset\n",
    "df_replace.info()"
   ]
  },
  {
   "cell_type": "code",
   "execution_count": 9,
   "metadata": {},
   "outputs": [],
   "source": [
    "# Dividindo inputs e classes\n",
    "x = df_replace.drop('class', axis=1)\n",
    "y = df_replace['class']"
   ]
  },
  {
   "cell_type": "code",
   "execution_count": 10,
   "metadata": {},
   "outputs": [],
   "source": [
    "# Importdando bibliotecas para treinamento\n",
    "from sklearn.model_selection import train_test_split\n",
    "from sklearn import metrics\n",
    "from sklearn.neighbors import KNeighborsClassifier\n",
    "from sklearn.svm import SVC\n",
    "from sklearn.ensemble import RandomForestClassifier\n",
    "from sklearn.pipeline import Pipeline\n",
    "from sklearn.model_selection import GridSearchCV"
   ]
  },
  {
   "cell_type": "markdown",
   "metadata": {},
   "source": [
    "# Execução dos treinamentos"
   ]
  },
  {
   "cell_type": "markdown",
   "metadata": {},
   "source": [
    "### Treinamento do KNN com GRidSearch"
   ]
  },
  {
   "cell_type": "code",
   "execution_count": 11,
   "metadata": {},
   "outputs": [],
   "source": [
    "knn = KNeighborsClassifier()\n",
    "valor = list(range(1,31))\n",
    "valores = {'n_neighbors' : valor}\n",
    "gs_knn = GridSearchCV(knn, valores, cv=5, scoring='accuracy', verbose=10)"
   ]
  },
  {
   "cell_type": "code",
   "execution_count": 12,
   "metadata": {},
   "outputs": [
    {
     "name": "stdout",
     "output_type": "stream",
     "text": [
      "Fitting 5 folds for each of 30 candidates, totalling 150 fits\n",
      "[CV] n_neighbors=1 ...................................................\n",
      "[CV] ....................... n_neighbors=1, score=0.850, total=   0.0s\n",
      "[CV] n_neighbors=1 ...................................................\n",
      "[CV] ....................... n_neighbors=1, score=0.818, total=   0.0s\n",
      "[CV] n_neighbors=1 ...................................................\n",
      "[CV] ....................... n_neighbors=1, score=0.847, total=   0.0s\n",
      "[CV] n_neighbors=1 ...................................................\n",
      "[CV] ....................... n_neighbors=1, score=0.765, total=   0.0s"
     ]
    },
    {
     "name": "stderr",
     "output_type": "stream",
     "text": [
      "[Parallel(n_jobs=1)]: Using backend SequentialBackend with 1 concurrent workers.\n",
      "[Parallel(n_jobs=1)]: Done   1 out of   1 | elapsed:    0.0s remaining:    0.0s\n",
      "[Parallel(n_jobs=1)]: Done   2 out of   2 | elapsed:    0.0s remaining:    0.0s\n",
      "[Parallel(n_jobs=1)]: Done   3 out of   3 | elapsed:    0.0s remaining:    0.0s\n"
     ]
    },
    {
     "name": "stdout",
     "output_type": "stream",
     "text": [
      "\n",
      "[CV] n_neighbors=1 ...................................................\n",
      "[CV] ....................... n_neighbors=1, score=0.809, total=   0.0s\n",
      "[CV] n_neighbors=2 ...................................................\n",
      "[CV] ....................... n_neighbors=2, score=0.769, total=   0.1s\n",
      "[CV] n_neighbors=2 ...................................................\n",
      "[CV] ....................... n_neighbors=2, score=0.685, total=   0.0s\n",
      "[CV] n_neighbors=2 ...................................................\n",
      "[CV] ....................... n_neighbors=2, score=0.777, total=   0.0s\n",
      "[CV] n_neighbors=2 ...................................................\n"
     ]
    },
    {
     "name": "stderr",
     "output_type": "stream",
     "text": [
      "[Parallel(n_jobs=1)]: Done   4 out of   4 | elapsed:    0.1s remaining:    0.0s\n",
      "[Parallel(n_jobs=1)]: Done   5 out of   5 | elapsed:    0.1s remaining:    0.0s\n",
      "[Parallel(n_jobs=1)]: Done   6 out of   6 | elapsed:    0.2s remaining:    0.0s\n",
      "[Parallel(n_jobs=1)]: Done   7 out of   7 | elapsed:    0.2s remaining:    0.0s\n",
      "[Parallel(n_jobs=1)]: Done   8 out of   8 | elapsed:    0.3s remaining:    0.0s\n",
      "[Parallel(n_jobs=1)]: Done   9 out of   9 | elapsed:    0.3s remaining:    0.0s\n"
     ]
    },
    {
     "name": "stdout",
     "output_type": "stream",
     "text": [
      "[CV] ....................... n_neighbors=2, score=0.745, total=   0.1s\n",
      "[CV] n_neighbors=2 ...................................................\n",
      "[CV] ....................... n_neighbors=2, score=0.745, total=   0.0s\n",
      "[CV] n_neighbors=3 ...................................................\n",
      "[CV] ....................... n_neighbors=3, score=0.757, total=   0.1s\n",
      "[CV] n_neighbors=3 ...................................................\n",
      "[CV] ....................... n_neighbors=3, score=0.806, total=   0.0s\n",
      "[CV] n_neighbors=3 ...................................................\n",
      "[CV] ....................... n_neighbors=3, score=0.841, total=   0.0s\n",
      "[CV] n_neighbors=3 ...................................................\n",
      "[CV] ....................... n_neighbors=3, score=0.820, total=   0.1s\n",
      "[CV] n_neighbors=3 ...................................................\n",
      "[CV] ....................... n_neighbors=3, score=0.841, total=   0.0s\n",
      "[CV] n_neighbors=4 ...................................................\n",
      "[CV] ....................... n_neighbors=4, score=0.772, total=   0.1s\n",
      "[CV] n_neighbors=4 ...................................................\n",
      "[CV] ....................... n_neighbors=4, score=0.775, total=   0.0s\n",
      "[CV] n_neighbors=4 ...................................................\n",
      "[CV] ....................... n_neighbors=4, score=0.798, total=   0.1s\n",
      "[CV] n_neighbors=4 ...................................................\n",
      "[CV] ....................... n_neighbors=4, score=0.809, total=   0.1s\n",
      "[CV] n_neighbors=4 ...................................................\n",
      "[CV] ....................... n_neighbors=4, score=0.803, total=   0.1s\n",
      "[CV] n_neighbors=5 ...................................................\n",
      "[CV] ....................... n_neighbors=5, score=0.769, total=   0.1s\n",
      "[CV] n_neighbors=5 ...................................................\n",
      "[CV] ....................... n_neighbors=5, score=0.812, total=   0.1s\n",
      "[CV] n_neighbors=5 ...................................................\n",
      "[CV] ....................... n_neighbors=5, score=0.821, total=   0.1s\n",
      "[CV] n_neighbors=5 ...................................................\n",
      "[CV] ....................... n_neighbors=5, score=0.838, total=   0.0s\n",
      "[CV] n_neighbors=5 ...................................................\n",
      "[CV] ....................... n_neighbors=5, score=0.846, total=   0.1s\n",
      "[CV] n_neighbors=6 ...................................................\n",
      "[CV] ....................... n_neighbors=6, score=0.792, total=   0.1s\n",
      "[CV] n_neighbors=6 ...................................................\n",
      "[CV] ....................... n_neighbors=6, score=0.801, total=   0.1s\n",
      "[CV] n_neighbors=6 ...................................................\n",
      "[CV] ....................... n_neighbors=6, score=0.792, total=   0.1s\n",
      "[CV] n_neighbors=6 ...................................................\n",
      "[CV] ....................... n_neighbors=6, score=0.843, total=   0.1s\n",
      "[CV] n_neighbors=6 ...................................................\n",
      "[CV] ....................... n_neighbors=6, score=0.841, total=   0.1s\n",
      "[CV] n_neighbors=7 ...................................................\n",
      "[CV] ....................... n_neighbors=7, score=0.783, total=   0.1s\n",
      "[CV] n_neighbors=7 ...................................................\n",
      "[CV] ....................... n_neighbors=7, score=0.818, total=   0.0s\n",
      "[CV] n_neighbors=7 ...................................................\n",
      "[CV] ....................... n_neighbors=7, score=0.832, total=   0.1s\n",
      "[CV] n_neighbors=7 ...................................................\n",
      "[CV] ....................... n_neighbors=7, score=0.843, total=   0.1s\n",
      "[CV] n_neighbors=7 ...................................................\n",
      "[CV] ....................... n_neighbors=7, score=0.858, total=   0.1s\n",
      "[CV] n_neighbors=8 ...................................................\n",
      "[CV] ....................... n_neighbors=8, score=0.801, total=   0.0s\n",
      "[CV] n_neighbors=8 ...................................................\n",
      "[CV] ....................... n_neighbors=8, score=0.792, total=   0.0s\n",
      "[CV] n_neighbors=8 ...................................................\n",
      "[CV] ....................... n_neighbors=8, score=0.806, total=   0.1s\n",
      "[CV] n_neighbors=8 ...................................................\n",
      "[CV] ....................... n_neighbors=8, score=0.806, total=   0.0s\n",
      "[CV] n_neighbors=8 ...................................................\n",
      "[CV] ....................... n_neighbors=8, score=0.858, total=   0.0s\n",
      "[CV] n_neighbors=9 ...................................................\n",
      "[CV] ....................... n_neighbors=9, score=0.786, total=   0.0s\n",
      "[CV] n_neighbors=9 ...................................................\n",
      "[CV] ....................... n_neighbors=9, score=0.803, total=   0.0s\n",
      "[CV] n_neighbors=9 ...................................................\n",
      "[CV] ....................... n_neighbors=9, score=0.850, total=   0.0s\n",
      "[CV] n_neighbors=9 ...................................................\n",
      "[CV] ....................... n_neighbors=9, score=0.832, total=   0.1s\n",
      "[CV] n_neighbors=9 ...................................................\n",
      "[CV] ....................... n_neighbors=9, score=0.870, total=   0.0s\n",
      "[CV] n_neighbors=10 ..................................................\n",
      "[CV] ...................... n_neighbors=10, score=0.786, total=   0.0s\n",
      "[CV] n_neighbors=10 ..................................................\n",
      "[CV] ...................... n_neighbors=10, score=0.786, total=   0.0s\n",
      "[CV] n_neighbors=10 ..................................................\n",
      "[CV] ...................... n_neighbors=10, score=0.827, total=   0.1s\n",
      "[CV] n_neighbors=10 ..................................................\n",
      "[CV] ...................... n_neighbors=10, score=0.823, total=   0.1s\n",
      "[CV] n_neighbors=10 ..................................................\n",
      "[CV] ...................... n_neighbors=10, score=0.858, total=   0.0s\n",
      "[CV] n_neighbors=11 ..................................................\n",
      "[CV] ...................... n_neighbors=11, score=0.777, total=   0.0s\n",
      "[CV] n_neighbors=11 ..................................................\n",
      "[CV] ...................... n_neighbors=11, score=0.801, total=   0.0s\n",
      "[CV] n_neighbors=11 ..................................................\n",
      "[CV] ...................... n_neighbors=11, score=0.832, total=   0.0s\n",
      "[CV] n_neighbors=11 ..................................................\n",
      "[CV] ...................... n_neighbors=11, score=0.846, total=   0.1s\n",
      "[CV] n_neighbors=11 ..................................................\n",
      "[CV] ...................... n_neighbors=11, score=0.855, total=   0.1s\n",
      "[CV] n_neighbors=12 ..................................................\n",
      "[CV] ...................... n_neighbors=12, score=0.795, total=   0.1s\n",
      "[CV] n_neighbors=12 ..................................................\n",
      "[CV] ...................... n_neighbors=12, score=0.766, total=   0.1s\n",
      "[CV] n_neighbors=12 ..................................................\n",
      "[CV] ...................... n_neighbors=12, score=0.832, total=   0.1s\n",
      "[CV] n_neighbors=12 ..................................................\n",
      "[CV] ...................... n_neighbors=12, score=0.841, total=   0.1s\n",
      "[CV] n_neighbors=12 ..................................................\n",
      "[CV] ...................... n_neighbors=12, score=0.875, total=   0.0s\n",
      "[CV] n_neighbors=13 ..................................................\n",
      "[CV] ...................... n_neighbors=13, score=0.780, total=   0.0s\n",
      "[CV] n_neighbors=13 ..................................................\n",
      "[CV] ...................... n_neighbors=13, score=0.795, total=   0.0s\n",
      "[CV] n_neighbors=13 ..................................................\n",
      "[CV] ...................... n_neighbors=13, score=0.853, total=   0.0s\n",
      "[CV] n_neighbors=13 ..................................................\n",
      "[CV] ...................... n_neighbors=13, score=0.861, total=   0.0s\n",
      "[CV] n_neighbors=13 ..................................................\n",
      "[CV] ...................... n_neighbors=13, score=0.881, total=   0.0s\n",
      "[CV] n_neighbors=14 ..................................................\n",
      "[CV] ...................... n_neighbors=14, score=0.783, total=   0.0s\n",
      "[CV] n_neighbors=14 ..................................................\n",
      "[CV] ...................... n_neighbors=14, score=0.754, total=   0.0s\n",
      "[CV] n_neighbors=14 ..................................................\n",
      "[CV] ...................... n_neighbors=14, score=0.824, total=   0.0s\n",
      "[CV] n_neighbors=14 ..................................................\n",
      "[CV] ...................... n_neighbors=14, score=0.843, total=   0.0s\n",
      "[CV] n_neighbors=14 ..................................................\n",
      "[CV] ...................... n_neighbors=14, score=0.878, total=   0.0s\n",
      "[CV] n_neighbors=15 ..................................................\n"
     ]
    },
    {
     "name": "stdout",
     "output_type": "stream",
     "text": [
      "[CV] ...................... n_neighbors=15, score=0.757, total=   0.0s\n",
      "[CV] n_neighbors=15 ..................................................\n",
      "[CV] ...................... n_neighbors=15, score=0.795, total=   0.0s\n",
      "[CV] n_neighbors=15 ..................................................\n",
      "[CV] ...................... n_neighbors=15, score=0.841, total=   0.0s\n",
      "[CV] n_neighbors=15 ..................................................\n",
      "[CV] ...................... n_neighbors=15, score=0.867, total=   0.0s\n",
      "[CV] n_neighbors=15 ..................................................\n",
      "[CV] ...................... n_neighbors=15, score=0.896, total=   0.0s\n",
      "[CV] n_neighbors=16 ..................................................\n",
      "[CV] ...................... n_neighbors=16, score=0.783, total=   0.0s\n",
      "[CV] n_neighbors=16 ..................................................\n",
      "[CV] ...................... n_neighbors=16, score=0.775, total=   0.0s\n",
      "[CV] n_neighbors=16 ..................................................\n",
      "[CV] ...................... n_neighbors=16, score=0.835, total=   0.1s\n",
      "[CV] n_neighbors=16 ..................................................\n",
      "[CV] ...................... n_neighbors=16, score=0.861, total=   0.0s\n",
      "[CV] n_neighbors=16 ..................................................\n",
      "[CV] ...................... n_neighbors=16, score=0.893, total=   0.0s\n",
      "[CV] n_neighbors=17 ..................................................\n",
      "[CV] ...................... n_neighbors=17, score=0.792, total=   0.0s\n",
      "[CV] n_neighbors=17 ..................................................\n",
      "[CV] ...................... n_neighbors=17, score=0.815, total=   0.0s\n",
      "[CV] n_neighbors=17 ..................................................\n",
      "[CV] ...................... n_neighbors=17, score=0.832, total=   0.0s\n",
      "[CV] n_neighbors=17 ..................................................\n",
      "[CV] ...................... n_neighbors=17, score=0.858, total=   0.0s\n",
      "[CV] n_neighbors=17 ..................................................\n",
      "[CV] ...................... n_neighbors=17, score=0.899, total=   0.0s\n",
      "[CV] n_neighbors=18 ..................................................\n",
      "[CV] ...................... n_neighbors=18, score=0.786, total=   0.0s\n",
      "[CV] n_neighbors=18 ..................................................\n",
      "[CV] ...................... n_neighbors=18, score=0.789, total=   0.0s\n",
      "[CV] n_neighbors=18 ..................................................\n",
      "[CV] ...................... n_neighbors=18, score=0.838, total=   0.1s\n",
      "[CV] n_neighbors=18 ..................................................\n",
      "[CV] ...................... n_neighbors=18, score=0.872, total=   0.0s\n",
      "[CV] n_neighbors=18 ..................................................\n",
      "[CV] ...................... n_neighbors=18, score=0.916, total=   0.0s\n",
      "[CV] n_neighbors=19 ..................................................\n",
      "[CV] ...................... n_neighbors=19, score=0.786, total=   0.0s\n",
      "[CV] n_neighbors=19 ..................................................\n",
      "[CV] ...................... n_neighbors=19, score=0.809, total=   0.0s\n",
      "[CV] n_neighbors=19 ..................................................\n",
      "[CV] ...................... n_neighbors=19, score=0.824, total=   0.0s\n",
      "[CV] n_neighbors=19 ..................................................\n",
      "[CV] ...................... n_neighbors=19, score=0.867, total=   0.0s\n",
      "[CV] n_neighbors=19 ..................................................\n",
      "[CV] ...................... n_neighbors=19, score=0.907, total=   0.0s\n",
      "[CV] n_neighbors=20 ..................................................\n",
      "[CV] ...................... n_neighbors=20, score=0.803, total=   0.0s\n",
      "[CV] n_neighbors=20 ..................................................\n",
      "[CV] ...................... n_neighbors=20, score=0.795, total=   0.0s\n",
      "[CV] n_neighbors=20 ..................................................\n",
      "[CV] ...................... n_neighbors=20, score=0.838, total=   0.1s\n",
      "[CV] n_neighbors=20 ..................................................\n",
      "[CV] ...................... n_neighbors=20, score=0.881, total=   0.0s\n",
      "[CV] n_neighbors=20 ..................................................\n",
      "[CV] ...................... n_neighbors=20, score=0.910, total=   0.1s\n",
      "[CV] n_neighbors=21 ..................................................\n",
      "[CV] ...................... n_neighbors=21, score=0.792, total=   0.1s\n",
      "[CV] n_neighbors=21 ..................................................\n",
      "[CV] ...................... n_neighbors=21, score=0.812, total=   0.1s\n",
      "[CV] n_neighbors=21 ..................................................\n",
      "[CV] ...................... n_neighbors=21, score=0.835, total=   0.1s\n",
      "[CV] n_neighbors=21 ..................................................\n",
      "[CV] ...................... n_neighbors=21, score=0.899, total=   0.1s\n",
      "[CV] n_neighbors=21 ..................................................\n",
      "[CV] ...................... n_neighbors=21, score=0.916, total=   0.0s\n",
      "[CV] n_neighbors=22 ..................................................\n",
      "[CV] ...................... n_neighbors=22, score=0.780, total=   0.0s\n",
      "[CV] n_neighbors=22 ..................................................\n",
      "[CV] ...................... n_neighbors=22, score=0.795, total=   0.0s\n",
      "[CV] n_neighbors=22 ..................................................\n",
      "[CV] ...................... n_neighbors=22, score=0.832, total=   0.1s\n",
      "[CV] n_neighbors=22 ..................................................\n",
      "[CV] ...................... n_neighbors=22, score=0.896, total=   0.1s\n",
      "[CV] n_neighbors=22 ..................................................\n",
      "[CV] ...................... n_neighbors=22, score=0.904, total=   0.0s\n",
      "[CV] n_neighbors=23 ..................................................\n",
      "[CV] ...................... n_neighbors=23, score=0.789, total=   0.0s\n",
      "[CV] n_neighbors=23 ..................................................\n",
      "[CV] ...................... n_neighbors=23, score=0.821, total=   0.0s\n",
      "[CV] n_neighbors=23 ..................................................\n",
      "[CV] ...................... n_neighbors=23, score=0.821, total=   0.1s\n",
      "[CV] n_neighbors=23 ..................................................\n",
      "[CV] ...................... n_neighbors=23, score=0.893, total=   0.1s\n",
      "[CV] n_neighbors=23 ..................................................\n",
      "[CV] ...................... n_neighbors=23, score=0.919, total=   0.0s\n",
      "[CV] n_neighbors=24 ..................................................\n",
      "[CV] ...................... n_neighbors=24, score=0.789, total=   0.1s\n",
      "[CV] n_neighbors=24 ..................................................\n",
      "[CV] ...................... n_neighbors=24, score=0.789, total=   0.0s\n",
      "[CV] n_neighbors=24 ..................................................\n",
      "[CV] ...................... n_neighbors=24, score=0.829, total=   0.0s\n",
      "[CV] n_neighbors=24 ..................................................\n",
      "[CV] ...................... n_neighbors=24, score=0.896, total=   0.1s\n",
      "[CV] n_neighbors=24 ..................................................\n",
      "[CV] ...................... n_neighbors=24, score=0.922, total=   0.0s\n",
      "[CV] n_neighbors=25 ..................................................\n",
      "[CV] ...................... n_neighbors=25, score=0.792, total=   0.0s\n",
      "[CV] n_neighbors=25 ..................................................\n",
      "[CV] ...................... n_neighbors=25, score=0.809, total=   0.0s\n",
      "[CV] n_neighbors=25 ..................................................\n",
      "[CV] ...................... n_neighbors=25, score=0.818, total=   0.1s\n",
      "[CV] n_neighbors=25 ..................................................\n",
      "[CV] ...................... n_neighbors=25, score=0.899, total=   0.0s\n",
      "[CV] n_neighbors=25 ..................................................\n",
      "[CV] ...................... n_neighbors=25, score=0.916, total=   0.1s\n",
      "[CV] n_neighbors=26 ..................................................\n",
      "[CV] ...................... n_neighbors=26, score=0.795, total=   0.1s\n",
      "[CV] n_neighbors=26 ..................................................\n",
      "[CV] ...................... n_neighbors=26, score=0.803, total=   0.1s\n",
      "[CV] n_neighbors=26 ..................................................\n",
      "[CV] ...................... n_neighbors=26, score=0.829, total=   0.0s\n",
      "[CV] n_neighbors=26 ..................................................\n",
      "[CV] ...................... n_neighbors=26, score=0.890, total=   0.1s\n",
      "[CV] n_neighbors=26 ..................................................\n",
      "[CV] ...................... n_neighbors=26, score=0.913, total=   0.0s\n",
      "[CV] n_neighbors=27 ..................................................\n",
      "[CV] ...................... n_neighbors=27, score=0.798, total=   0.1s\n",
      "[CV] n_neighbors=27 ..................................................\n"
     ]
    },
    {
     "name": "stdout",
     "output_type": "stream",
     "text": [
      "[CV] ...................... n_neighbors=27, score=0.801, total=   0.0s\n",
      "[CV] n_neighbors=27 ..................................................\n",
      "[CV] ...................... n_neighbors=27, score=0.827, total=   0.1s\n",
      "[CV] n_neighbors=27 ..................................................\n",
      "[CV] ...................... n_neighbors=27, score=0.899, total=   0.0s\n",
      "[CV] n_neighbors=27 ..................................................\n",
      "[CV] ...................... n_neighbors=27, score=0.904, total=   0.0s\n",
      "[CV] n_neighbors=28 ..................................................\n",
      "[CV] ...................... n_neighbors=28, score=0.798, total=   0.0s\n",
      "[CV] n_neighbors=28 ..................................................\n",
      "[CV] ...................... n_neighbors=28, score=0.792, total=   0.1s\n",
      "[CV] n_neighbors=28 ..................................................\n",
      "[CV] ...................... n_neighbors=28, score=0.827, total=   0.1s\n",
      "[CV] n_neighbors=28 ..................................................\n",
      "[CV] ...................... n_neighbors=28, score=0.907, total=   0.0s\n",
      "[CV] n_neighbors=28 ..................................................\n",
      "[CV] ...................... n_neighbors=28, score=0.890, total=   0.1s\n",
      "[CV] n_neighbors=29 ..................................................\n",
      "[CV] ...................... n_neighbors=29, score=0.795, total=   0.1s\n",
      "[CV] n_neighbors=29 ..................................................\n",
      "[CV] ...................... n_neighbors=29, score=0.809, total=   0.1s\n",
      "[CV] n_neighbors=29 ..................................................\n",
      "[CV] ...................... n_neighbors=29, score=0.829, total=   0.1s\n",
      "[CV] n_neighbors=29 ..................................................\n",
      "[CV] ...................... n_neighbors=29, score=0.910, total=   0.1s\n",
      "[CV] n_neighbors=29 ..................................................\n",
      "[CV] ...................... n_neighbors=29, score=0.907, total=   0.1s\n",
      "[CV] n_neighbors=30 ..................................................\n",
      "[CV] ...................... n_neighbors=30, score=0.792, total=   0.1s\n",
      "[CV] n_neighbors=30 ..................................................\n",
      "[CV] ...................... n_neighbors=30, score=0.801, total=   0.1s\n",
      "[CV] n_neighbors=30 ..................................................\n",
      "[CV] ...................... n_neighbors=30, score=0.832, total=   0.1s\n",
      "[CV] n_neighbors=30 ..................................................\n",
      "[CV] ...................... n_neighbors=30, score=0.919, total=   0.1s\n",
      "[CV] n_neighbors=30 ..................................................\n",
      "[CV] ...................... n_neighbors=30, score=0.907, total=   0.1s\n"
     ]
    },
    {
     "name": "stderr",
     "output_type": "stream",
     "text": [
      "[Parallel(n_jobs=1)]: Done 150 out of 150 | elapsed:    8.0s finished\n"
     ]
    },
    {
     "data": {
      "text/plain": [
       "GridSearchCV(cv=5, estimator=KNeighborsClassifier(),\n",
       "             param_grid={'n_neighbors': [1, 2, 3, 4, 5, 6, 7, 8, 9, 10, 11, 12,\n",
       "                                         13, 14, 15, 16, 17, 18, 19, 20, 21, 22,\n",
       "                                         23, 24, 25, 26, 27, 28, 29, 30]},\n",
       "             scoring='accuracy', verbose=10)"
      ]
     },
     "execution_count": 12,
     "metadata": {},
     "output_type": "execute_result"
    }
   ],
   "source": [
    "gs_knn.fit(x, y)"
   ]
  },
  {
   "cell_type": "code",
   "execution_count": 13,
   "metadata": {},
   "outputs": [
    {
     "name": "stdout",
     "output_type": "stream",
     "text": [
      "Melhor resultado: 0.8507598224009383\n",
      "Melhores parâmetros: {'n_neighbors': 21}\n"
     ]
    }
   ],
   "source": [
    "# Melhores resultados\n",
    "print(f'Melhor resultado: {gs_knn.best_score_}')\n",
    "print(f'Melhores parâmetros: {gs_knn.best_params_}')"
   ]
  },
  {
   "cell_type": "markdown",
   "metadata": {},
   "source": [
    "### Treinamento do SVM com Gridsearch"
   ]
  },
  {
   "cell_type": "code",
   "execution_count": 14,
   "metadata": {},
   "outputs": [],
   "source": [
    "sup = SVC()\n",
    "lista_C = [1, 5, 10, 15, 20, 25, 30]\n",
    "lista_gamma = [1, 5, 10, 15, 20, 25, 30]\n",
    "valores = {'C':lista_C, 'gamma':lista_gamma}\n",
    "gs_svm = GridSearchCV(sup, valores, cv=5, scoring='accuracy', verbose=10)"
   ]
  },
  {
   "cell_type": "code",
   "execution_count": 15,
   "metadata": {},
   "outputs": [
    {
     "name": "stderr",
     "output_type": "stream",
     "text": [
      "[Parallel(n_jobs=1)]: Using backend SequentialBackend with 1 concurrent workers.\n"
     ]
    },
    {
     "name": "stdout",
     "output_type": "stream",
     "text": [
      "Fitting 5 folds for each of 49 candidates, totalling 245 fits\n",
      "[CV] C=1, gamma=1 ....................................................\n",
      "[CV] ........................ C=1, gamma=1, score=0.723, total=   0.5s\n",
      "[CV] C=1, gamma=1 ....................................................\n"
     ]
    },
    {
     "name": "stderr",
     "output_type": "stream",
     "text": [
      "[Parallel(n_jobs=1)]: Done   1 out of   1 | elapsed:    0.4s remaining:    0.0s\n"
     ]
    },
    {
     "name": "stdout",
     "output_type": "stream",
     "text": [
      "[CV] ........................ C=1, gamma=1, score=0.855, total=   0.7s\n",
      "[CV] C=1, gamma=1 ....................................................\n"
     ]
    },
    {
     "name": "stderr",
     "output_type": "stream",
     "text": [
      "[Parallel(n_jobs=1)]: Done   2 out of   2 | elapsed:    1.1s remaining:    0.0s\n"
     ]
    },
    {
     "name": "stdout",
     "output_type": "stream",
     "text": [
      "[CV] ........................ C=1, gamma=1, score=0.818, total=   0.5s\n",
      "[CV] C=1, gamma=1 ....................................................\n"
     ]
    },
    {
     "name": "stderr",
     "output_type": "stream",
     "text": [
      "[Parallel(n_jobs=1)]: Done   3 out of   3 | elapsed:    1.6s remaining:    0.0s\n"
     ]
    },
    {
     "name": "stdout",
     "output_type": "stream",
     "text": [
      "[CV] ........................ C=1, gamma=1, score=0.861, total=   0.6s\n",
      "[CV] C=1, gamma=1 ....................................................\n"
     ]
    },
    {
     "name": "stderr",
     "output_type": "stream",
     "text": [
      "[Parallel(n_jobs=1)]: Done   4 out of   4 | elapsed:    2.2s remaining:    0.0s\n"
     ]
    },
    {
     "name": "stdout",
     "output_type": "stream",
     "text": [
      "[CV] ........................ C=1, gamma=1, score=0.884, total=   0.6s\n",
      "[CV] C=1, gamma=5 ....................................................\n"
     ]
    },
    {
     "name": "stderr",
     "output_type": "stream",
     "text": [
      "[Parallel(n_jobs=1)]: Done   5 out of   5 | elapsed:    2.8s remaining:    0.0s\n"
     ]
    },
    {
     "name": "stdout",
     "output_type": "stream",
     "text": [
      "[CV] ........................ C=1, gamma=5, score=0.699, total=   0.9s\n",
      "[CV] C=1, gamma=5 ....................................................\n"
     ]
    },
    {
     "name": "stderr",
     "output_type": "stream",
     "text": [
      "[Parallel(n_jobs=1)]: Done   6 out of   6 | elapsed:    3.7s remaining:    0.0s\n"
     ]
    },
    {
     "name": "stdout",
     "output_type": "stream",
     "text": [
      "[CV] ........................ C=1, gamma=5, score=0.699, total=   0.7s\n",
      "[CV] C=1, gamma=5 ....................................................\n"
     ]
    },
    {
     "name": "stderr",
     "output_type": "stream",
     "text": [
      "[Parallel(n_jobs=1)]: Done   7 out of   7 | elapsed:    4.4s remaining:    0.0s\n"
     ]
    },
    {
     "name": "stdout",
     "output_type": "stream",
     "text": [
      "[CV] ........................ C=1, gamma=5, score=0.699, total=   0.8s\n",
      "[CV] C=1, gamma=5 ....................................................\n"
     ]
    },
    {
     "name": "stderr",
     "output_type": "stream",
     "text": [
      "[Parallel(n_jobs=1)]: Done   8 out of   8 | elapsed:    5.2s remaining:    0.0s\n"
     ]
    },
    {
     "name": "stdout",
     "output_type": "stream",
     "text": [
      "[CV] ........................ C=1, gamma=5, score=0.701, total=   0.6s\n",
      "[CV] C=1, gamma=5 ....................................................\n"
     ]
    },
    {
     "name": "stderr",
     "output_type": "stream",
     "text": [
      "[Parallel(n_jobs=1)]: Done   9 out of   9 | elapsed:    5.8s remaining:    0.0s\n"
     ]
    },
    {
     "name": "stdout",
     "output_type": "stream",
     "text": [
      "[CV] ........................ C=1, gamma=5, score=0.701, total=   0.6s\n",
      "[CV] C=1, gamma=10 ...................................................\n",
      "[CV] ....................... C=1, gamma=10, score=0.699, total=   0.7s\n",
      "[CV] C=1, gamma=10 ...................................................\n",
      "[CV] ....................... C=1, gamma=10, score=0.699, total=   0.6s\n",
      "[CV] C=1, gamma=10 ...................................................\n",
      "[CV] ....................... C=1, gamma=10, score=0.699, total=   0.7s\n",
      "[CV] C=1, gamma=10 ...................................................\n",
      "[CV] ....................... C=1, gamma=10, score=0.701, total=   0.8s\n",
      "[CV] C=1, gamma=10 ...................................................\n",
      "[CV] ....................... C=1, gamma=10, score=0.701, total=   0.6s\n",
      "[CV] C=1, gamma=15 ...................................................\n",
      "[CV] ....................... C=1, gamma=15, score=0.699, total=   0.6s\n",
      "[CV] C=1, gamma=15 ...................................................\n",
      "[CV] ....................... C=1, gamma=15, score=0.699, total=   0.6s\n",
      "[CV] C=1, gamma=15 ...................................................\n",
      "[CV] ....................... C=1, gamma=15, score=0.699, total=   0.5s\n",
      "[CV] C=1, gamma=15 ...................................................\n",
      "[CV] ....................... C=1, gamma=15, score=0.701, total=   0.5s\n",
      "[CV] C=1, gamma=15 ...................................................\n",
      "[CV] ....................... C=1, gamma=15, score=0.701, total=   0.6s\n",
      "[CV] C=1, gamma=20 ...................................................\n",
      "[CV] ....................... C=1, gamma=20, score=0.699, total=   0.5s\n",
      "[CV] C=1, gamma=20 ...................................................\n",
      "[CV] ....................... C=1, gamma=20, score=0.699, total=   0.5s\n",
      "[CV] C=1, gamma=20 ...................................................\n",
      "[CV] ....................... C=1, gamma=20, score=0.699, total=   0.5s\n",
      "[CV] C=1, gamma=20 ...................................................\n",
      "[CV] ....................... C=1, gamma=20, score=0.701, total=   0.5s\n",
      "[CV] C=1, gamma=20 ...................................................\n",
      "[CV] ....................... C=1, gamma=20, score=0.701, total=   0.5s\n",
      "[CV] C=1, gamma=25 ...................................................\n",
      "[CV] ....................... C=1, gamma=25, score=0.699, total=   0.5s\n",
      "[CV] C=1, gamma=25 ...................................................\n",
      "[CV] ....................... C=1, gamma=25, score=0.699, total=   0.5s\n",
      "[CV] C=1, gamma=25 ...................................................\n",
      "[CV] ....................... C=1, gamma=25, score=0.699, total=   0.6s\n",
      "[CV] C=1, gamma=25 ...................................................\n",
      "[CV] ....................... C=1, gamma=25, score=0.701, total=   0.6s\n",
      "[CV] C=1, gamma=25 ...................................................\n",
      "[CV] ....................... C=1, gamma=25, score=0.701, total=   0.5s\n",
      "[CV] C=1, gamma=30 ...................................................\n",
      "[CV] ....................... C=1, gamma=30, score=0.699, total=   0.7s\n",
      "[CV] C=1, gamma=30 ...................................................\n",
      "[CV] ....................... C=1, gamma=30, score=0.699, total=   0.6s\n",
      "[CV] C=1, gamma=30 ...................................................\n",
      "[CV] ....................... C=1, gamma=30, score=0.699, total=   0.6s\n",
      "[CV] C=1, gamma=30 ...................................................\n",
      "[CV] ....................... C=1, gamma=30, score=0.701, total=   0.6s\n",
      "[CV] C=1, gamma=30 ...................................................\n",
      "[CV] ....................... C=1, gamma=30, score=0.701, total=   0.6s\n",
      "[CV] C=5, gamma=1 ....................................................\n",
      "[CV] ........................ C=5, gamma=1, score=0.728, total=   0.5s\n",
      "[CV] C=5, gamma=1 ....................................................\n",
      "[CV] ........................ C=5, gamma=1, score=0.864, total=   0.5s\n",
      "[CV] C=5, gamma=1 ....................................................\n",
      "[CV] ........................ C=5, gamma=1, score=0.841, total=   0.6s\n",
      "[CV] C=5, gamma=1 ....................................................\n",
      "[CV] ........................ C=5, gamma=1, score=0.864, total=   0.5s\n",
      "[CV] C=5, gamma=1 ....................................................\n",
      "[CV] ........................ C=5, gamma=1, score=0.901, total=   0.5s\n",
      "[CV] C=5, gamma=5 ....................................................\n",
      "[CV] ........................ C=5, gamma=5, score=0.699, total=   0.7s\n",
      "[CV] C=5, gamma=5 ....................................................\n",
      "[CV] ........................ C=5, gamma=5, score=0.699, total=   0.7s\n",
      "[CV] C=5, gamma=5 ....................................................\n",
      "[CV] ........................ C=5, gamma=5, score=0.699, total=   0.8s\n",
      "[CV] C=5, gamma=5 ....................................................\n",
      "[CV] ........................ C=5, gamma=5, score=0.701, total=   0.7s\n",
      "[CV] C=5, gamma=5 ....................................................\n",
      "[CV] ........................ C=5, gamma=5, score=0.701, total=   0.6s\n",
      "[CV] C=5, gamma=10 ...................................................\n",
      "[CV] ....................... C=5, gamma=10, score=0.699, total=   0.7s\n",
      "[CV] C=5, gamma=10 ...................................................\n",
      "[CV] ....................... C=5, gamma=10, score=0.699, total=   0.7s\n",
      "[CV] C=5, gamma=10 ...................................................\n",
      "[CV] ....................... C=5, gamma=10, score=0.699, total=   0.7s\n",
      "[CV] C=5, gamma=10 ...................................................\n",
      "[CV] ....................... C=5, gamma=10, score=0.701, total=   0.7s\n",
      "[CV] C=5, gamma=10 ...................................................\n",
      "[CV] ....................... C=5, gamma=10, score=0.701, total=   0.8s\n",
      "[CV] C=5, gamma=15 ...................................................\n",
      "[CV] ....................... C=5, gamma=15, score=0.699, total=   0.6s\n",
      "[CV] C=5, gamma=15 ...................................................\n",
      "[CV] ....................... C=5, gamma=15, score=0.699, total=   0.5s\n",
      "[CV] C=5, gamma=15 ...................................................\n",
      "[CV] ....................... C=5, gamma=15, score=0.699, total=   0.6s\n",
      "[CV] C=5, gamma=15 ...................................................\n",
      "[CV] ....................... C=5, gamma=15, score=0.701, total=   0.5s\n",
      "[CV] C=5, gamma=15 ...................................................\n",
      "[CV] ....................... C=5, gamma=15, score=0.701, total=   0.6s\n",
      "[CV] C=5, gamma=20 ...................................................\n",
      "[CV] ....................... C=5, gamma=20, score=0.699, total=   0.5s\n",
      "[CV] C=5, gamma=20 ...................................................\n",
      "[CV] ....................... C=5, gamma=20, score=0.699, total=   0.6s\n",
      "[CV] C=5, gamma=20 ...................................................\n",
      "[CV] ....................... C=5, gamma=20, score=0.699, total=   0.5s\n",
      "[CV] C=5, gamma=20 ...................................................\n",
      "[CV] ....................... C=5, gamma=20, score=0.701, total=   0.5s\n",
      "[CV] C=5, gamma=20 ...................................................\n",
      "[CV] ....................... C=5, gamma=20, score=0.701, total=   0.5s\n",
      "[CV] C=5, gamma=25 ...................................................\n",
      "[CV] ....................... C=5, gamma=25, score=0.699, total=   0.6s\n",
      "[CV] C=5, gamma=25 ...................................................\n",
      "[CV] ....................... C=5, gamma=25, score=0.699, total=   0.5s\n",
      "[CV] C=5, gamma=25 ...................................................\n",
      "[CV] ....................... C=5, gamma=25, score=0.699, total=   0.5s\n",
      "[CV] C=5, gamma=25 ...................................................\n",
      "[CV] ....................... C=5, gamma=25, score=0.701, total=   0.5s\n",
      "[CV] C=5, gamma=25 ...................................................\n",
      "[CV] ....................... C=5, gamma=25, score=0.701, total=   0.6s\n",
      "[CV] C=5, gamma=30 ...................................................\n",
      "[CV] ....................... C=5, gamma=30, score=0.699, total=   0.5s\n",
      "[CV] C=5, gamma=30 ...................................................\n",
      "[CV] ....................... C=5, gamma=30, score=0.699, total=   0.5s\n",
      "[CV] C=5, gamma=30 ...................................................\n"
     ]
    },
    {
     "name": "stdout",
     "output_type": "stream",
     "text": [
      "[CV] ....................... C=5, gamma=30, score=0.699, total=   0.6s\n",
      "[CV] C=5, gamma=30 ...................................................\n",
      "[CV] ....................... C=5, gamma=30, score=0.701, total=   0.6s\n",
      "[CV] C=5, gamma=30 ...................................................\n",
      "[CV] ....................... C=5, gamma=30, score=0.701, total=   0.5s\n",
      "[CV] C=10, gamma=1 ...................................................\n",
      "[CV] ....................... C=10, gamma=1, score=0.728, total=   0.5s\n",
      "[CV] C=10, gamma=1 ...................................................\n",
      "[CV] ....................... C=10, gamma=1, score=0.864, total=   0.5s\n",
      "[CV] C=10, gamma=1 ...................................................\n",
      "[CV] ....................... C=10, gamma=1, score=0.841, total=   0.5s\n",
      "[CV] C=10, gamma=1 ...................................................\n",
      "[CV] ....................... C=10, gamma=1, score=0.864, total=   0.5s\n",
      "[CV] C=10, gamma=1 ...................................................\n",
      "[CV] ....................... C=10, gamma=1, score=0.901, total=   0.5s\n",
      "[CV] C=10, gamma=5 ...................................................\n",
      "[CV] ....................... C=10, gamma=5, score=0.699, total=   0.7s\n",
      "[CV] C=10, gamma=5 ...................................................\n",
      "[CV] ....................... C=10, gamma=5, score=0.699, total=   0.7s\n",
      "[CV] C=10, gamma=5 ...................................................\n",
      "[CV] ....................... C=10, gamma=5, score=0.699, total=   0.7s\n",
      "[CV] C=10, gamma=5 ...................................................\n",
      "[CV] ....................... C=10, gamma=5, score=0.701, total=   0.7s\n",
      "[CV] C=10, gamma=5 ...................................................\n",
      "[CV] ....................... C=10, gamma=5, score=0.701, total=   0.6s\n",
      "[CV] C=10, gamma=10 ..................................................\n",
      "[CV] ...................... C=10, gamma=10, score=0.699, total=   0.7s\n",
      "[CV] C=10, gamma=10 ..................................................\n",
      "[CV] ...................... C=10, gamma=10, score=0.699, total=   0.7s\n",
      "[CV] C=10, gamma=10 ..................................................\n",
      "[CV] ...................... C=10, gamma=10, score=0.699, total=   0.7s\n",
      "[CV] C=10, gamma=10 ..................................................\n",
      "[CV] ...................... C=10, gamma=10, score=0.701, total=   0.8s\n",
      "[CV] C=10, gamma=10 ..................................................\n",
      "[CV] ...................... C=10, gamma=10, score=0.701, total=   0.8s\n",
      "[CV] C=10, gamma=15 ..................................................\n",
      "[CV] ...................... C=10, gamma=15, score=0.699, total=   0.6s\n",
      "[CV] C=10, gamma=15 ..................................................\n",
      "[CV] ...................... C=10, gamma=15, score=0.699, total=   0.6s\n",
      "[CV] C=10, gamma=15 ..................................................\n",
      "[CV] ...................... C=10, gamma=15, score=0.699, total=   0.7s\n",
      "[CV] C=10, gamma=15 ..................................................\n",
      "[CV] ...................... C=10, gamma=15, score=0.701, total=   0.6s\n",
      "[CV] C=10, gamma=15 ..................................................\n",
      "[CV] ...................... C=10, gamma=15, score=0.701, total=   0.6s\n",
      "[CV] C=10, gamma=20 ..................................................\n",
      "[CV] ...................... C=10, gamma=20, score=0.699, total=   0.6s\n",
      "[CV] C=10, gamma=20 ..................................................\n",
      "[CV] ...................... C=10, gamma=20, score=0.699, total=   0.6s\n",
      "[CV] C=10, gamma=20 ..................................................\n",
      "[CV] ...................... C=10, gamma=20, score=0.699, total=   0.5s\n",
      "[CV] C=10, gamma=20 ..................................................\n",
      "[CV] ...................... C=10, gamma=20, score=0.701, total=   0.5s\n",
      "[CV] C=10, gamma=20 ..................................................\n",
      "[CV] ...................... C=10, gamma=20, score=0.701, total=   0.6s\n",
      "[CV] C=10, gamma=25 ..................................................\n",
      "[CV] ...................... C=10, gamma=25, score=0.699, total=   0.6s\n",
      "[CV] C=10, gamma=25 ..................................................\n",
      "[CV] ...................... C=10, gamma=25, score=0.699, total=   0.5s\n",
      "[CV] C=10, gamma=25 ..................................................\n",
      "[CV] ...................... C=10, gamma=25, score=0.699, total=   0.5s\n",
      "[CV] C=10, gamma=25 ..................................................\n",
      "[CV] ...................... C=10, gamma=25, score=0.701, total=   0.5s\n",
      "[CV] C=10, gamma=25 ..................................................\n",
      "[CV] ...................... C=10, gamma=25, score=0.701, total=   0.5s\n",
      "[CV] C=10, gamma=30 ..................................................\n",
      "[CV] ...................... C=10, gamma=30, score=0.699, total=   0.5s\n",
      "[CV] C=10, gamma=30 ..................................................\n",
      "[CV] ...................... C=10, gamma=30, score=0.699, total=   0.5s\n",
      "[CV] C=10, gamma=30 ..................................................\n",
      "[CV] ...................... C=10, gamma=30, score=0.699, total=   0.6s\n",
      "[CV] C=10, gamma=30 ..................................................\n",
      "[CV] ...................... C=10, gamma=30, score=0.701, total=   0.5s\n",
      "[CV] C=10, gamma=30 ..................................................\n",
      "[CV] ...................... C=10, gamma=30, score=0.701, total=   0.5s\n",
      "[CV] C=15, gamma=1 ...................................................\n",
      "[CV] ....................... C=15, gamma=1, score=0.728, total=   0.5s\n",
      "[CV] C=15, gamma=1 ...................................................\n",
      "[CV] ....................... C=15, gamma=1, score=0.864, total=   0.5s\n",
      "[CV] C=15, gamma=1 ...................................................\n",
      "[CV] ....................... C=15, gamma=1, score=0.841, total=   0.5s\n",
      "[CV] C=15, gamma=1 ...................................................\n",
      "[CV] ....................... C=15, gamma=1, score=0.864, total=   0.4s\n",
      "[CV] C=15, gamma=1 ...................................................\n",
      "[CV] ....................... C=15, gamma=1, score=0.901, total=   0.5s\n",
      "[CV] C=15, gamma=5 ...................................................\n",
      "[CV] ....................... C=15, gamma=5, score=0.699, total=   0.7s\n",
      "[CV] C=15, gamma=5 ...................................................\n",
      "[CV] ....................... C=15, gamma=5, score=0.699, total=   0.7s\n",
      "[CV] C=15, gamma=5 ...................................................\n",
      "[CV] ....................... C=15, gamma=5, score=0.699, total=   0.7s\n",
      "[CV] C=15, gamma=5 ...................................................\n",
      "[CV] ....................... C=15, gamma=5, score=0.701, total=   0.7s\n",
      "[CV] C=15, gamma=5 ...................................................\n",
      "[CV] ....................... C=15, gamma=5, score=0.701, total=   0.6s\n",
      "[CV] C=15, gamma=10 ..................................................\n",
      "[CV] ...................... C=15, gamma=10, score=0.699, total=   0.7s\n",
      "[CV] C=15, gamma=10 ..................................................\n",
      "[CV] ...................... C=15, gamma=10, score=0.699, total=   0.8s\n",
      "[CV] C=15, gamma=10 ..................................................\n",
      "[CV] ...................... C=15, gamma=10, score=0.699, total=   0.7s\n",
      "[CV] C=15, gamma=10 ..................................................\n",
      "[CV] ...................... C=15, gamma=10, score=0.701, total=   0.6s\n",
      "[CV] C=15, gamma=10 ..................................................\n",
      "[CV] ...................... C=15, gamma=10, score=0.701, total=   0.8s\n",
      "[CV] C=15, gamma=15 ..................................................\n",
      "[CV] ...................... C=15, gamma=15, score=0.699, total=   0.5s\n",
      "[CV] C=15, gamma=15 ..................................................\n",
      "[CV] ...................... C=15, gamma=15, score=0.699, total=   0.6s\n",
      "[CV] C=15, gamma=15 ..................................................\n",
      "[CV] ...................... C=15, gamma=15, score=0.699, total=   0.6s\n",
      "[CV] C=15, gamma=15 ..................................................\n",
      "[CV] ...................... C=15, gamma=15, score=0.701, total=   0.5s\n",
      "[CV] C=15, gamma=15 ..................................................\n",
      "[CV] ...................... C=15, gamma=15, score=0.701, total=   0.5s\n",
      "[CV] C=15, gamma=20 ..................................................\n"
     ]
    },
    {
     "name": "stdout",
     "output_type": "stream",
     "text": [
      "[CV] ...................... C=15, gamma=20, score=0.699, total=   0.5s\n",
      "[CV] C=15, gamma=20 ..................................................\n",
      "[CV] ...................... C=15, gamma=20, score=0.699, total=   0.6s\n",
      "[CV] C=15, gamma=20 ..................................................\n",
      "[CV] ...................... C=15, gamma=20, score=0.699, total=   0.5s\n",
      "[CV] C=15, gamma=20 ..................................................\n",
      "[CV] ...................... C=15, gamma=20, score=0.701, total=   0.5s\n",
      "[CV] C=15, gamma=20 ..................................................\n",
      "[CV] ...................... C=15, gamma=20, score=0.701, total=   0.5s\n",
      "[CV] C=15, gamma=25 ..................................................\n",
      "[CV] ...................... C=15, gamma=25, score=0.699, total=   0.5s\n",
      "[CV] C=15, gamma=25 ..................................................\n",
      "[CV] ...................... C=15, gamma=25, score=0.699, total=   0.5s\n",
      "[CV] C=15, gamma=25 ..................................................\n",
      "[CV] ...................... C=15, gamma=25, score=0.699, total=   0.5s\n",
      "[CV] C=15, gamma=25 ..................................................\n",
      "[CV] ...................... C=15, gamma=25, score=0.701, total=   0.4s\n",
      "[CV] C=15, gamma=25 ..................................................\n",
      "[CV] ...................... C=15, gamma=25, score=0.701, total=   0.6s\n",
      "[CV] C=15, gamma=30 ..................................................\n",
      "[CV] ...................... C=15, gamma=30, score=0.699, total=   0.5s\n",
      "[CV] C=15, gamma=30 ..................................................\n",
      "[CV] ...................... C=15, gamma=30, score=0.699, total=   0.5s\n",
      "[CV] C=15, gamma=30 ..................................................\n",
      "[CV] ...................... C=15, gamma=30, score=0.699, total=   0.6s\n",
      "[CV] C=15, gamma=30 ..................................................\n",
      "[CV] ...................... C=15, gamma=30, score=0.701, total=   0.5s\n",
      "[CV] C=15, gamma=30 ..................................................\n",
      "[CV] ...................... C=15, gamma=30, score=0.701, total=   0.5s\n",
      "[CV] C=20, gamma=1 ...................................................\n",
      "[CV] ....................... C=20, gamma=1, score=0.728, total=   0.4s\n",
      "[CV] C=20, gamma=1 ...................................................\n",
      "[CV] ....................... C=20, gamma=1, score=0.864, total=   0.5s\n",
      "[CV] C=20, gamma=1 ...................................................\n",
      "[CV] ....................... C=20, gamma=1, score=0.841, total=   0.5s\n",
      "[CV] C=20, gamma=1 ...................................................\n",
      "[CV] ....................... C=20, gamma=1, score=0.864, total=   0.5s\n",
      "[CV] C=20, gamma=1 ...................................................\n",
      "[CV] ....................... C=20, gamma=1, score=0.901, total=   0.5s\n",
      "[CV] C=20, gamma=5 ...................................................\n",
      "[CV] ....................... C=20, gamma=5, score=0.699, total=   0.8s\n",
      "[CV] C=20, gamma=5 ...................................................\n",
      "[CV] ....................... C=20, gamma=5, score=0.699, total=   0.6s\n",
      "[CV] C=20, gamma=5 ...................................................\n",
      "[CV] ....................... C=20, gamma=5, score=0.699, total=   0.7s\n",
      "[CV] C=20, gamma=5 ...................................................\n",
      "[CV] ....................... C=20, gamma=5, score=0.701, total=   0.7s\n",
      "[CV] C=20, gamma=5 ...................................................\n",
      "[CV] ....................... C=20, gamma=5, score=0.701, total=   0.6s\n",
      "[CV] C=20, gamma=10 ..................................................\n",
      "[CV] ...................... C=20, gamma=10, score=0.699, total=   0.7s\n",
      "[CV] C=20, gamma=10 ..................................................\n",
      "[CV] ...................... C=20, gamma=10, score=0.699, total=   0.8s\n",
      "[CV] C=20, gamma=10 ..................................................\n",
      "[CV] ...................... C=20, gamma=10, score=0.699, total=   0.7s\n",
      "[CV] C=20, gamma=10 ..................................................\n",
      "[CV] ...................... C=20, gamma=10, score=0.701, total=   0.7s\n",
      "[CV] C=20, gamma=10 ..................................................\n",
      "[CV] ...................... C=20, gamma=10, score=0.701, total=   0.8s\n",
      "[CV] C=20, gamma=15 ..................................................\n",
      "[CV] ...................... C=20, gamma=15, score=0.699, total=   0.6s\n",
      "[CV] C=20, gamma=15 ..................................................\n",
      "[CV] ...................... C=20, gamma=15, score=0.699, total=   0.5s\n",
      "[CV] C=20, gamma=15 ..................................................\n",
      "[CV] ...................... C=20, gamma=15, score=0.699, total=   0.6s\n",
      "[CV] C=20, gamma=15 ..................................................\n",
      "[CV] ...................... C=20, gamma=15, score=0.701, total=   0.5s\n",
      "[CV] C=20, gamma=15 ..................................................\n",
      "[CV] ...................... C=20, gamma=15, score=0.701, total=   0.6s\n",
      "[CV] C=20, gamma=20 ..................................................\n",
      "[CV] ...................... C=20, gamma=20, score=0.699, total=   0.6s\n",
      "[CV] C=20, gamma=20 ..................................................\n",
      "[CV] ...................... C=20, gamma=20, score=0.699, total=   0.5s\n",
      "[CV] C=20, gamma=20 ..................................................\n",
      "[CV] ...................... C=20, gamma=20, score=0.699, total=   0.5s\n",
      "[CV] C=20, gamma=20 ..................................................\n",
      "[CV] ...................... C=20, gamma=20, score=0.701, total=   0.5s\n",
      "[CV] C=20, gamma=20 ..................................................\n",
      "[CV] ...................... C=20, gamma=20, score=0.701, total=   0.6s\n",
      "[CV] C=20, gamma=25 ..................................................\n",
      "[CV] ...................... C=20, gamma=25, score=0.699, total=   0.5s\n",
      "[CV] C=20, gamma=25 ..................................................\n",
      "[CV] ...................... C=20, gamma=25, score=0.699, total=   0.5s\n",
      "[CV] C=20, gamma=25 ..................................................\n",
      "[CV] ...................... C=20, gamma=25, score=0.699, total=   0.5s\n",
      "[CV] C=20, gamma=25 ..................................................\n",
      "[CV] ...................... C=20, gamma=25, score=0.701, total=   0.6s\n",
      "[CV] C=20, gamma=25 ..................................................\n",
      "[CV] ...................... C=20, gamma=25, score=0.701, total=   0.5s\n",
      "[CV] C=20, gamma=30 ..................................................\n",
      "[CV] ...................... C=20, gamma=30, score=0.699, total=   0.5s\n",
      "[CV] C=20, gamma=30 ..................................................\n",
      "[CV] ...................... C=20, gamma=30, score=0.699, total=   0.5s\n",
      "[CV] C=20, gamma=30 ..................................................\n",
      "[CV] ...................... C=20, gamma=30, score=0.699, total=   0.6s\n",
      "[CV] C=20, gamma=30 ..................................................\n",
      "[CV] ...................... C=20, gamma=30, score=0.701, total=   0.5s\n",
      "[CV] C=20, gamma=30 ..................................................\n",
      "[CV] ...................... C=20, gamma=30, score=0.701, total=   0.5s\n",
      "[CV] C=25, gamma=1 ...................................................\n",
      "[CV] ....................... C=25, gamma=1, score=0.728, total=   0.5s\n",
      "[CV] C=25, gamma=1 ...................................................\n",
      "[CV] ....................... C=25, gamma=1, score=0.864, total=   0.5s\n",
      "[CV] C=25, gamma=1 ...................................................\n",
      "[CV] ....................... C=25, gamma=1, score=0.841, total=   0.5s\n",
      "[CV] C=25, gamma=1 ...................................................\n",
      "[CV] ....................... C=25, gamma=1, score=0.864, total=   0.5s\n",
      "[CV] C=25, gamma=1 ...................................................\n",
      "[CV] ....................... C=25, gamma=1, score=0.901, total=   0.4s\n",
      "[CV] C=25, gamma=5 ...................................................\n",
      "[CV] ....................... C=25, gamma=5, score=0.699, total=   0.7s\n",
      "[CV] C=25, gamma=5 ...................................................\n",
      "[CV] ....................... C=25, gamma=5, score=0.699, total=   0.6s\n",
      "[CV] C=25, gamma=5 ...................................................\n",
      "[CV] ....................... C=25, gamma=5, score=0.699, total=   0.7s\n",
      "[CV] C=25, gamma=5 ...................................................\n"
     ]
    },
    {
     "name": "stdout",
     "output_type": "stream",
     "text": [
      "[CV] ....................... C=25, gamma=5, score=0.701, total=   0.7s\n",
      "[CV] C=25, gamma=5 ...................................................\n",
      "[CV] ....................... C=25, gamma=5, score=0.701, total=   0.6s\n",
      "[CV] C=25, gamma=10 ..................................................\n",
      "[CV] ...................... C=25, gamma=10, score=0.699, total=   0.7s\n",
      "[CV] C=25, gamma=10 ..................................................\n",
      "[CV] ...................... C=25, gamma=10, score=0.699, total=   0.8s\n",
      "[CV] C=25, gamma=10 ..................................................\n",
      "[CV] ...................... C=25, gamma=10, score=0.699, total=   0.7s\n",
      "[CV] C=25, gamma=10 ..................................................\n",
      "[CV] ...................... C=25, gamma=10, score=0.701, total=   0.7s\n",
      "[CV] C=25, gamma=10 ..................................................\n",
      "[CV] ...................... C=25, gamma=10, score=0.701, total=   0.9s\n",
      "[CV] C=25, gamma=15 ..................................................\n",
      "[CV] ...................... C=25, gamma=15, score=0.699, total=   0.6s\n",
      "[CV] C=25, gamma=15 ..................................................\n",
      "[CV] ...................... C=25, gamma=15, score=0.699, total=   0.7s\n",
      "[CV] C=25, gamma=15 ..................................................\n",
      "[CV] ...................... C=25, gamma=15, score=0.699, total=   0.6s\n",
      "[CV] C=25, gamma=15 ..................................................\n",
      "[CV] ...................... C=25, gamma=15, score=0.701, total=   0.6s\n",
      "[CV] C=25, gamma=15 ..................................................\n",
      "[CV] ...................... C=25, gamma=15, score=0.701, total=   0.7s\n",
      "[CV] C=25, gamma=20 ..................................................\n",
      "[CV] ...................... C=25, gamma=20, score=0.699, total=   0.6s\n",
      "[CV] C=25, gamma=20 ..................................................\n",
      "[CV] ...................... C=25, gamma=20, score=0.699, total=   0.6s\n",
      "[CV] C=25, gamma=20 ..................................................\n",
      "[CV] ...................... C=25, gamma=20, score=0.699, total=   0.5s\n",
      "[CV] C=25, gamma=20 ..................................................\n",
      "[CV] ...................... C=25, gamma=20, score=0.701, total=   0.6s\n",
      "[CV] C=25, gamma=20 ..................................................\n",
      "[CV] ...................... C=25, gamma=20, score=0.701, total=   0.5s\n",
      "[CV] C=25, gamma=25 ..................................................\n",
      "[CV] ...................... C=25, gamma=25, score=0.699, total=   0.5s\n",
      "[CV] C=25, gamma=25 ..................................................\n",
      "[CV] ...................... C=25, gamma=25, score=0.699, total=   0.5s\n",
      "[CV] C=25, gamma=25 ..................................................\n",
      "[CV] ...................... C=25, gamma=25, score=0.699, total=   0.6s\n",
      "[CV] C=25, gamma=25 ..................................................\n",
      "[CV] ...................... C=25, gamma=25, score=0.701, total=   0.5s\n",
      "[CV] C=25, gamma=25 ..................................................\n",
      "[CV] ...................... C=25, gamma=25, score=0.701, total=   0.5s\n",
      "[CV] C=25, gamma=30 ..................................................\n",
      "[CV] ...................... C=25, gamma=30, score=0.699, total=   0.5s\n",
      "[CV] C=25, gamma=30 ..................................................\n",
      "[CV] ...................... C=25, gamma=30, score=0.699, total=   0.6s\n",
      "[CV] C=25, gamma=30 ..................................................\n",
      "[CV] ...................... C=25, gamma=30, score=0.699, total=   0.5s\n",
      "[CV] C=25, gamma=30 ..................................................\n",
      "[CV] ...................... C=25, gamma=30, score=0.701, total=   0.5s\n",
      "[CV] C=25, gamma=30 ..................................................\n",
      "[CV] ...................... C=25, gamma=30, score=0.701, total=   0.6s\n",
      "[CV] C=30, gamma=1 ...................................................\n",
      "[CV] ....................... C=30, gamma=1, score=0.728, total=   0.5s\n",
      "[CV] C=30, gamma=1 ...................................................\n",
      "[CV] ....................... C=30, gamma=1, score=0.864, total=   0.5s\n",
      "[CV] C=30, gamma=1 ...................................................\n",
      "[CV] ....................... C=30, gamma=1, score=0.841, total=   0.5s\n",
      "[CV] C=30, gamma=1 ...................................................\n",
      "[CV] ....................... C=30, gamma=1, score=0.864, total=   0.5s\n",
      "[CV] C=30, gamma=1 ...................................................\n",
      "[CV] ....................... C=30, gamma=1, score=0.901, total=   0.5s\n",
      "[CV] C=30, gamma=5 ...................................................\n",
      "[CV] ....................... C=30, gamma=5, score=0.699, total=   0.6s\n",
      "[CV] C=30, gamma=5 ...................................................\n",
      "[CV] ....................... C=30, gamma=5, score=0.699, total=   0.6s\n",
      "[CV] C=30, gamma=5 ...................................................\n",
      "[CV] ....................... C=30, gamma=5, score=0.699, total=   0.7s\n",
      "[CV] C=30, gamma=5 ...................................................\n",
      "[CV] ....................... C=30, gamma=5, score=0.701, total=   0.6s\n",
      "[CV] C=30, gamma=5 ...................................................\n",
      "[CV] ....................... C=30, gamma=5, score=0.701, total=   0.6s\n",
      "[CV] C=30, gamma=10 ..................................................\n",
      "[CV] ...................... C=30, gamma=10, score=0.699, total=   0.8s\n",
      "[CV] C=30, gamma=10 ..................................................\n",
      "[CV] ...................... C=30, gamma=10, score=0.699, total=   0.7s\n",
      "[CV] C=30, gamma=10 ..................................................\n",
      "[CV] ...................... C=30, gamma=10, score=0.699, total=   0.7s\n",
      "[CV] C=30, gamma=10 ..................................................\n",
      "[CV] ...................... C=30, gamma=10, score=0.701, total=   0.7s\n",
      "[CV] C=30, gamma=10 ..................................................\n",
      "[CV] ...................... C=30, gamma=10, score=0.701, total=   0.7s\n",
      "[CV] C=30, gamma=15 ..................................................\n",
      "[CV] ...................... C=30, gamma=15, score=0.699, total=   0.6s\n",
      "[CV] C=30, gamma=15 ..................................................\n",
      "[CV] ...................... C=30, gamma=15, score=0.699, total=   0.6s\n",
      "[CV] C=30, gamma=15 ..................................................\n",
      "[CV] ...................... C=30, gamma=15, score=0.699, total=   0.6s\n",
      "[CV] C=30, gamma=15 ..................................................\n",
      "[CV] ...................... C=30, gamma=15, score=0.701, total=   0.5s\n",
      "[CV] C=30, gamma=15 ..................................................\n",
      "[CV] ...................... C=30, gamma=15, score=0.701, total=   0.6s\n",
      "[CV] C=30, gamma=20 ..................................................\n",
      "[CV] ...................... C=30, gamma=20, score=0.699, total=   0.5s\n",
      "[CV] C=30, gamma=20 ..................................................\n",
      "[CV] ...................... C=30, gamma=20, score=0.699, total=   0.6s\n",
      "[CV] C=30, gamma=20 ..................................................\n",
      "[CV] ...................... C=30, gamma=20, score=0.699, total=   0.5s\n",
      "[CV] C=30, gamma=20 ..................................................\n",
      "[CV] ...................... C=30, gamma=20, score=0.701, total=   0.5s\n",
      "[CV] C=30, gamma=20 ..................................................\n",
      "[CV] ...................... C=30, gamma=20, score=0.701, total=   0.5s\n",
      "[CV] C=30, gamma=25 ..................................................\n",
      "[CV] ...................... C=30, gamma=25, score=0.699, total=   0.5s\n",
      "[CV] C=30, gamma=25 ..................................................\n",
      "[CV] ...................... C=30, gamma=25, score=0.699, total=   0.5s\n",
      "[CV] C=30, gamma=25 ..................................................\n",
      "[CV] ...................... C=30, gamma=25, score=0.699, total=   0.5s\n",
      "[CV] C=30, gamma=25 ..................................................\n",
      "[CV] ...................... C=30, gamma=25, score=0.701, total=   0.4s\n",
      "[CV] C=30, gamma=25 ..................................................\n",
      "[CV] ...................... C=30, gamma=25, score=0.701, total=   0.5s\n",
      "[CV] C=30, gamma=30 ..................................................\n",
      "[CV] ...................... C=30, gamma=30, score=0.699, total=   0.5s\n",
      "[CV] C=30, gamma=30 ..................................................\n"
     ]
    },
    {
     "name": "stdout",
     "output_type": "stream",
     "text": [
      "[CV] ...................... C=30, gamma=30, score=0.699, total=   0.7s\n",
      "[CV] C=30, gamma=30 ..................................................\n",
      "[CV] ...................... C=30, gamma=30, score=0.699, total=   0.6s\n",
      "[CV] C=30, gamma=30 ..................................................\n",
      "[CV] ...................... C=30, gamma=30, score=0.701, total=   0.6s\n",
      "[CV] C=30, gamma=30 ..................................................\n",
      "[CV] ...................... C=30, gamma=30, score=0.701, total=   0.7s\n"
     ]
    },
    {
     "name": "stderr",
     "output_type": "stream",
     "text": [
      "[Parallel(n_jobs=1)]: Done 245 out of 245 | elapsed:  2.4min finished\n"
     ]
    },
    {
     "data": {
      "text/plain": [
       "GridSearchCV(cv=5, estimator=SVC(),\n",
       "             param_grid={'C': [1, 5, 10, 15, 20, 25, 30],\n",
       "                         'gamma': [1, 5, 10, 15, 20, 25, 30]},\n",
       "             scoring='accuracy', verbose=10)"
      ]
     },
     "execution_count": 15,
     "metadata": {},
     "output_type": "execute_result"
    }
   ],
   "source": [
    "gs_svm.fit(x,y)"
   ]
  },
  {
   "cell_type": "code",
   "execution_count": 16,
   "metadata": {},
   "outputs": [
    {
     "name": "stdout",
     "output_type": "stream",
     "text": [
      "Melhor resultado: 0.8397486805730082\n",
      "Melhores parâmetros: {'C': 5, 'gamma': 1}\n"
     ]
    }
   ],
   "source": [
    "# Melhores resultados\n",
    "print(f'Melhor resultado: {gs_svm.best_score_}')\n",
    "print(f'Melhores parâmetros: {gs_svm.best_params_}')"
   ]
  },
  {
   "cell_type": "markdown",
   "metadata": {},
   "source": [
    "### Treinamento do Random Forestcom Gidsearch"
   ]
  },
  {
   "cell_type": "code",
   "execution_count": 17,
   "metadata": {},
   "outputs": [],
   "source": [
    "random = RandomForestClassifier()\n",
    "lista = [70, 80, 90, 100, 110, 120, 130]\n",
    "valor_random = {'n_estimators':lista}\n",
    "gs_random = GridSearchCV(random, valor_random, cv=5, scoring='accuracy', verbose=10)"
   ]
  },
  {
   "cell_type": "code",
   "execution_count": 18,
   "metadata": {},
   "outputs": [
    {
     "name": "stdout",
     "output_type": "stream",
     "text": [
      "Fitting 5 folds for each of 7 candidates, totalling 35 fits\n",
      "[CV] n_estimators=70 .................................................\n"
     ]
    },
    {
     "name": "stderr",
     "output_type": "stream",
     "text": [
      "[Parallel(n_jobs=1)]: Using backend SequentialBackend with 1 concurrent workers.\n"
     ]
    },
    {
     "name": "stdout",
     "output_type": "stream",
     "text": [
      "[CV] ..................... n_estimators=70, score=0.708, total=   0.3s\n",
      "[CV] n_estimators=70 .................................................\n"
     ]
    },
    {
     "name": "stderr",
     "output_type": "stream",
     "text": [
      "[Parallel(n_jobs=1)]: Done   1 out of   1 | elapsed:    0.2s remaining:    0.0s\n"
     ]
    },
    {
     "name": "stdout",
     "output_type": "stream",
     "text": [
      "[CV] ..................... n_estimators=70, score=0.858, total=   0.2s\n",
      "[CV] n_estimators=70 .................................................\n"
     ]
    },
    {
     "name": "stderr",
     "output_type": "stream",
     "text": [
      "[Parallel(n_jobs=1)]: Done   2 out of   2 | elapsed:    0.4s remaining:    0.0s\n"
     ]
    },
    {
     "name": "stdout",
     "output_type": "stream",
     "text": [
      "[CV] ..................... n_estimators=70, score=0.832, total=   0.2s\n",
      "[CV] n_estimators=70 .................................................\n"
     ]
    },
    {
     "name": "stderr",
     "output_type": "stream",
     "text": [
      "[Parallel(n_jobs=1)]: Done   3 out of   3 | elapsed:    0.7s remaining:    0.0s\n"
     ]
    },
    {
     "name": "stdout",
     "output_type": "stream",
     "text": [
      "[CV] ..................... n_estimators=70, score=0.878, total=   0.4s\n",
      "[CV] n_estimators=70 .................................................\n"
     ]
    },
    {
     "name": "stderr",
     "output_type": "stream",
     "text": [
      "[Parallel(n_jobs=1)]: Done   4 out of   4 | elapsed:    1.1s remaining:    0.0s\n"
     ]
    },
    {
     "name": "stdout",
     "output_type": "stream",
     "text": [
      "[CV] ..................... n_estimators=70, score=0.852, total=   0.3s\n",
      "[CV] n_estimators=80 .................................................\n"
     ]
    },
    {
     "name": "stderr",
     "output_type": "stream",
     "text": [
      "[Parallel(n_jobs=1)]: Done   5 out of   5 | elapsed:    1.4s remaining:    0.0s\n"
     ]
    },
    {
     "name": "stdout",
     "output_type": "stream",
     "text": [
      "[CV] ..................... n_estimators=80, score=0.725, total=   0.3s\n",
      "[CV] n_estimators=80 .................................................\n"
     ]
    },
    {
     "name": "stderr",
     "output_type": "stream",
     "text": [
      "[Parallel(n_jobs=1)]: Done   6 out of   6 | elapsed:    1.7s remaining:    0.0s\n"
     ]
    },
    {
     "name": "stdout",
     "output_type": "stream",
     "text": [
      "[CV] ..................... n_estimators=80, score=0.844, total=   0.3s\n",
      "[CV] n_estimators=80 .................................................\n"
     ]
    },
    {
     "name": "stderr",
     "output_type": "stream",
     "text": [
      "[Parallel(n_jobs=1)]: Done   7 out of   7 | elapsed:    1.9s remaining:    0.0s\n"
     ]
    },
    {
     "name": "stdout",
     "output_type": "stream",
     "text": [
      "[CV] ..................... n_estimators=80, score=0.853, total=   0.2s\n",
      "[CV] n_estimators=80 .................................................\n"
     ]
    },
    {
     "name": "stderr",
     "output_type": "stream",
     "text": [
      "[Parallel(n_jobs=1)]: Done   8 out of   8 | elapsed:    2.2s remaining:    0.0s\n"
     ]
    },
    {
     "name": "stdout",
     "output_type": "stream",
     "text": [
      "[CV] ..................... n_estimators=80, score=0.852, total=   0.3s\n",
      "[CV] n_estimators=80 .................................................\n"
     ]
    },
    {
     "name": "stderr",
     "output_type": "stream",
     "text": [
      "[Parallel(n_jobs=1)]: Done   9 out of   9 | elapsed:    2.5s remaining:    0.0s\n"
     ]
    },
    {
     "name": "stdout",
     "output_type": "stream",
     "text": [
      "[CV] ..................... n_estimators=80, score=0.867, total=   0.4s\n",
      "[CV] n_estimators=90 .................................................\n",
      "[CV] ..................... n_estimators=90, score=0.723, total=   0.3s\n",
      "[CV] n_estimators=90 .................................................\n",
      "[CV] ..................... n_estimators=90, score=0.844, total=   0.3s\n",
      "[CV] n_estimators=90 .................................................\n",
      "[CV] ..................... n_estimators=90, score=0.844, total=   0.3s\n",
      "[CV] n_estimators=90 .................................................\n",
      "[CV] ..................... n_estimators=90, score=0.881, total=   0.3s\n",
      "[CV] n_estimators=90 .................................................\n",
      "[CV] ..................... n_estimators=90, score=0.861, total=   0.4s\n",
      "[CV] n_estimators=100 ................................................\n",
      "[CV] .................... n_estimators=100, score=0.725, total=   0.4s\n",
      "[CV] n_estimators=100 ................................................\n",
      "[CV] .................... n_estimators=100, score=0.847, total=   0.4s\n",
      "[CV] n_estimators=100 ................................................\n",
      "[CV] .................... n_estimators=100, score=0.838, total=   0.3s\n",
      "[CV] n_estimators=100 ................................................\n",
      "[CV] .................... n_estimators=100, score=0.855, total=   0.3s\n",
      "[CV] n_estimators=100 ................................................\n",
      "[CV] .................... n_estimators=100, score=0.852, total=   0.4s\n",
      "[CV] n_estimators=110 ................................................\n",
      "[CV] .................... n_estimators=110, score=0.705, total=   0.4s\n",
      "[CV] n_estimators=110 ................................................\n",
      "[CV] .................... n_estimators=110, score=0.832, total=   0.6s\n",
      "[CV] n_estimators=110 ................................................\n",
      "[CV] .................... n_estimators=110, score=0.821, total=   0.4s\n",
      "[CV] n_estimators=110 ................................................\n",
      "[CV] .................... n_estimators=110, score=0.878, total=   0.4s\n",
      "[CV] n_estimators=110 ................................................\n",
      "[CV] .................... n_estimators=110, score=0.835, total=   0.4s\n",
      "[CV] n_estimators=120 ................................................\n",
      "[CV] .................... n_estimators=120, score=0.685, total=   0.6s\n",
      "[CV] n_estimators=120 ................................................\n",
      "[CV] .................... n_estimators=120, score=0.847, total=   0.4s\n",
      "[CV] n_estimators=120 ................................................\n",
      "[CV] .................... n_estimators=120, score=0.832, total=   0.4s\n",
      "[CV] n_estimators=120 ................................................\n",
      "[CV] .................... n_estimators=120, score=0.855, total=   0.4s\n",
      "[CV] n_estimators=120 ................................................\n",
      "[CV] .................... n_estimators=120, score=0.858, total=   0.5s\n",
      "[CV] n_estimators=130 ................................................\n",
      "[CV] .................... n_estimators=130, score=0.714, total=   0.5s\n",
      "[CV] n_estimators=130 ................................................\n",
      "[CV] .................... n_estimators=130, score=0.835, total=   0.5s\n",
      "[CV] n_estimators=130 ................................................\n",
      "[CV] .................... n_estimators=130, score=0.835, total=   0.5s\n",
      "[CV] n_estimators=130 ................................................\n",
      "[CV] .................... n_estimators=130, score=0.861, total=   0.6s\n",
      "[CV] n_estimators=130 ................................................\n",
      "[CV] .................... n_estimators=130, score=0.884, total=   0.6s\n"
     ]
    },
    {
     "name": "stderr",
     "output_type": "stream",
     "text": [
      "[Parallel(n_jobs=1)]: Done  35 out of  35 | elapsed:   13.6s finished\n"
     ]
    },
    {
     "data": {
      "text/plain": [
       "GridSearchCV(cv=5, estimator=RandomForestClassifier(),\n",
       "             param_grid={'n_estimators': [70, 80, 90, 100, 110, 120, 130]},\n",
       "             scoring='accuracy', verbose=10)"
      ]
     },
     "execution_count": 18,
     "metadata": {},
     "output_type": "execute_result"
    }
   ],
   "source": [
    "gs_random.fit(x,y)"
   ]
  },
  {
   "cell_type": "code",
   "execution_count": 19,
   "metadata": {},
   "outputs": [
    {
     "name": "stdout",
     "output_type": "stream",
     "text": [
      "Melhor resultado: 0.8304867219569406\n",
      "Melhores parâmetros: {'n_estimators': 90}\n"
     ]
    }
   ],
   "source": [
    "# Melhores resultados\n",
    "print(f'Melhor resultado: {gs_random.best_score_}')\n",
    "print(f'Melhores parâmetros: {gs_random.best_params_}')"
   ]
  },
  {
   "cell_type": "markdown",
   "metadata": {},
   "source": [
    "# Efetuando a validação do melhor resultado"
   ]
  },
  {
   "cell_type": "code",
   "execution_count": 20,
   "metadata": {},
   "outputs": [],
   "source": [
    "# Separando dado de treino e teste\n",
    "x_treino, x_teste, y_treino, y_teste = train_test_split(x, y, random_state=42)"
   ]
  },
  {
   "cell_type": "code",
   "execution_count": 21,
   "metadata": {},
   "outputs": [
    {
     "name": "stdout",
     "output_type": "stream",
     "text": [
      "col_0  acc  good  unacc  vgood  All\n",
      "class                              \n",
      "acc     91     0     12      0  103\n",
      "good     4    11      0      0   15\n",
      "unacc    2     0    292      0  294\n",
      "vgood    2     1      0     17   20\n",
      "All     99    12    304     17  432\n"
     ]
    }
   ],
   "source": [
    "# Aplicando Validação Cruzada\n",
    "print(pd.crosstab(y_teste, gs_knn.predict(x_teste), margins=True))"
   ]
  },
  {
   "cell_type": "code",
   "execution_count": 22,
   "metadata": {},
   "outputs": [
    {
     "name": "stdout",
     "output_type": "stream",
     "text": [
      "              precision    recall  f1-score   support\n",
      "\n",
      "         acc       0.92      0.88      0.90       103\n",
      "        good       0.92      0.73      0.81        15\n",
      "       unacc       0.96      0.99      0.98       294\n",
      "       vgood       1.00      0.85      0.92        20\n",
      "\n",
      "    accuracy                           0.95       432\n",
      "   macro avg       0.95      0.87      0.90       432\n",
      "weighted avg       0.95      0.95      0.95       432\n",
      "\n"
     ]
    }
   ],
   "source": [
    "# Aplicando métricas de classifição\n",
    "print(metrics.classification_report(y_teste, gs_knn.predict(x_teste)))"
   ]
  },
  {
   "cell_type": "markdown",
   "metadata": {},
   "source": [
    "# Gerando e armazenando modelo em disco"
   ]
  },
  {
   "cell_type": "code",
   "execution_count": 23,
   "metadata": {},
   "outputs": [],
   "source": [
    "import joblib"
   ]
  },
  {
   "cell_type": "code",
   "execution_count": 24,
   "metadata": {},
   "outputs": [
    {
     "data": {
      "text/plain": [
       "['model.joblib']"
      ]
     },
     "execution_count": 24,
     "metadata": {},
     "output_type": "execute_result"
    }
   ],
   "source": [
    "joblib.dump(gs_knn, 'model.joblib')"
   ]
  }
 ],
 "metadata": {
  "kernelspec": {
   "display_name": "Python 3",
   "language": "python",
   "name": "python3"
  },
  "language_info": {
   "codemirror_mode": {
    "name": "ipython",
    "version": 3
   },
   "file_extension": ".py",
   "mimetype": "text/x-python",
   "name": "python",
   "nbconvert_exporter": "python",
   "pygments_lexer": "ipython3",
   "version": "3.7.4"
  }
 },
 "nbformat": 4,
 "nbformat_minor": 2
}
